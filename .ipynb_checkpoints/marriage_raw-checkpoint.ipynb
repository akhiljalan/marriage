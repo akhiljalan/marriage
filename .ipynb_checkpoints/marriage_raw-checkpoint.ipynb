{
 "cells": [
  {
   "cell_type": "markdown",
   "metadata": {
    "deletable": true,
    "editable": true
   },
   "source": [
    "## Marriage - What is it Good For? "
   ]
  },
  {
   "cell_type": "code",
   "execution_count": 31,
   "metadata": {
    "collapsed": false,
    "deletable": true,
    "editable": true
   },
   "outputs": [],
   "source": [
    "import pandas as pd\n",
    "import numpy as np\n",
    "import math\n",
    "% matplotlib inline\n",
    "import matplotlib.pyplot as plt\n",
    "import seaborn as sns\n",
    "import scipy.stats  as stats\n",
    "\n",
    "#https://github.com/fivethirtyeight/data/tree/master/marriage has a guide for keys\n",
    "\n",
    "\n",
    "'''Keys guide for the dataframes.\n",
    "HS = High school or less\n",
    "SC = Some college\n",
    "BAo = Bachelor's only\n",
    "BAp = Bachelor's plus \n",
    "GD = Graduate degree \n",
    "White = White\n",
    "Black = Black\n",
    "Hisp = Hispanic\n",
    "NE = Northeast\n",
    "MA = Mid-Atlantic\n",
    "Midwest, South, Mountain, Pacific\n",
    "work = Employed 50+ weeks year prior \n",
    "nowork = NOT(work)\n",
    "poor, mid, rich = [0-25], [25-75], [75-100] percentiles of family income.'''\n",
    "\n",
    "'''Data on divorce measured at every decade from 1960-2000, then every year from 2001-2012.'''\n",
    "divorce_df = pd.read_csv('data/divorce.csv', index_col=1).drop(['Unnamed: 0', 'date'], 1)\n",
    "pd.to_numeric(divorce_df.index.values)\n",
    "\n",
    "'''Figures in each cell are the share of that population that has never been married.'''\n",
    "men_df = pd.read_csv('data/men.csv', index_col=1).drop(['Unnamed: 0', 'date'], 1)\n",
    "\n",
    "'''Figures in each cell are the share of that population that has never been married.'''\n",
    "women_df = pd.read_csv('data/women.csv', index_col=1).drop(['Unnamed: 0', 'date'], 1)\n",
    "\n",
    "'''Figures in each cell are the share of that population that has never been married.'''\n",
    "both_sexes_df = pd.read_csv('data/both_sexes.csv', index_col=1).drop(['Unnamed: 0', 'date'], 1)"
   ]
  },
  {
   "cell_type": "markdown",
   "metadata": {
    "collapsed": true,
    "deletable": true,
    "editable": true
   },
   "source": [
    "## Footnotes \n",
    "\n",
    "All data courtesy of FiveThirtyEight."
   ]
  },
  {
   "cell_type": "code",
   "execution_count": null,
   "metadata": {
    "collapsed": true
   },
   "outputs": [],
   "source": []
  }
 ],
 "metadata": {
  "kernelspec": {
   "display_name": "Python [conda root]",
   "language": "python",
   "name": "conda-root-py"
  },
  "language_info": {
   "codemirror_mode": {
    "name": "ipython",
    "version": 3
   },
   "file_extension": ".py",
   "mimetype": "text/x-python",
   "name": "python",
   "nbconvert_exporter": "python",
   "pygments_lexer": "ipython3",
   "version": "3.6.0"
  }
 },
 "nbformat": 4,
 "nbformat_minor": 2
}
